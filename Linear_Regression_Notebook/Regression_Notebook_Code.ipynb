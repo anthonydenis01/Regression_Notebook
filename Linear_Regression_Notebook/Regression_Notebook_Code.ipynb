{
 "cells": [
  {
   "cell_type": "code",
   "execution_count": 5,
   "id": "9ea33e29-004d-45c2-92eb-504a7fb7e08a",
   "metadata": {},
   "outputs": [
    {
     "name": "stdout",
     "output_type": "stream",
     "text": [
      "Dataset head:\n",
      "       Date  store  product  number_sold\n",
      "0  1/1/2010      0        0          801\n",
      "1  1/2/2010      0        0          810\n",
      "2  1/3/2010      0        0          818\n",
      "3  1/4/2010      0        0          796\n",
      "4  1/5/2010      0        0          808\n",
      "\n",
      "Columns in dataset:\n",
      "Index(['Date', 'store', 'product', 'number_sold'], dtype='object')\n",
      "\n",
      "Data after processing:\n",
      "            store  product  number_sold  DateOrdinal\n",
      "Date                                                \n",
      "2010-01-01      0        0          801       733773\n",
      "2010-01-01      6        1          957       733773\n",
      "2010-01-01      4        9          947       733773\n",
      "2010-01-01      3        6          378       733773\n",
      "2010-01-01      1        1          745       733773\n"
     ]
    }
   ],
   "source": [
    "import os\n",
    "import pandas as pd\n",
    "import datetime\n",
    "\n",
    "# Set the file path (adjust if needed)\n",
    "file_path = r'C:\\Users\\antho\\OneDrive\\Bureau\\BA Capstone\\Lab Time series\\Dataset_Time Series I_HW_Number of Products Sold.csv'\n",
    "if not os.path.exists(file_path):\n",
    "    raise FileNotFoundError(f\"File not found: {file_path}\")\n",
    "\n",
    "# Load the dataset\n",
    "df = pd.read_csv(file_path)\n",
    "\n",
    "# Inspect the first few rows and columns\n",
    "print(\"Dataset head:\")\n",
    "print(df.head())\n",
    "print(\"\\nColumns in dataset:\")\n",
    "print(df.columns)\n",
    "\n",
    "# Assuming the date column is named \"Date\" and the sales column is \"Number of Products Sold\"\n",
    "df['Date'] = pd.to_datetime(df['Date'])\n",
    "df = df.set_index('Date')\n",
    "df = df.sort_index()\n",
    "\n",
    "# Create a new column with the date as an ordinal number (this converts the date into a numeric value)\n",
    "df['DateOrdinal'] = df.index.map(datetime.datetime.toordinal)\n",
    "\n",
    "# Inspect the DataFrame after adding the new feature\n",
    "print(\"\\nData after processing:\")\n",
    "print(df.head())\n"
   ]
  },
  {
   "cell_type": "code",
   "execution_count": 9,
   "id": "cb5f9d58-8365-4a83-9c27-754d9c95e9ec",
   "metadata": {},
   "outputs": [
    {
     "name": "stdout",
     "output_type": "stream",
     "text": [
      "Linear Regression model fitted successfully!\n",
      "Coefficient: [0.00207946]\n",
      "Intercept: -748.3398870912031\n"
     ]
    }
   ],
   "source": [
    "from sklearn.linear_model import LinearRegression\n",
    "\n",
    "# Define features (X) and target (y)\n",
    "# Ensure that the sales column name matches your dataset exactly\n",
    "sales_column = \"number_sold\"  # Update if necessary\n",
    "X = df[['DateOrdinal']]\n",
    "y = df[sales_column]\n",
    "\n",
    "# Fit the Linear Regression model\n",
    "model = LinearRegression()\n",
    "model.fit(X, y)\n",
    "\n",
    "print(\"Linear Regression model fitted successfully!\")\n",
    "print(\"Coefficient:\", model.coef_)\n",
    "print(\"Intercept:\", model.intercept_)\n"
   ]
  },
  {
   "cell_type": "code",
   "execution_count": 11,
   "id": "4420b2dd-4ae5-4194-a913-02c1c1cb9fbd",
   "metadata": {},
   "outputs": [
    {
     "name": "stdout",
     "output_type": "stream",
     "text": [
      "Forecast for the next 30 days:\n",
      "            Predicted Sales\n",
      "2019-01-01       784.344735\n",
      "2019-01-02       784.346814\n",
      "2019-01-03       784.348893\n",
      "2019-01-04       784.350973\n",
      "2019-01-05       784.353052\n",
      "2019-01-06       784.355132\n",
      "2019-01-07       784.357211\n",
      "2019-01-08       784.359291\n",
      "2019-01-09       784.361370\n",
      "2019-01-10       784.363450\n",
      "2019-01-11       784.365529\n",
      "2019-01-12       784.367609\n",
      "2019-01-13       784.369688\n",
      "2019-01-14       784.371768\n",
      "2019-01-15       784.373847\n",
      "2019-01-16       784.375926\n",
      "2019-01-17       784.378006\n",
      "2019-01-18       784.380085\n",
      "2019-01-19       784.382165\n",
      "2019-01-20       784.384244\n",
      "2019-01-21       784.386324\n",
      "2019-01-22       784.388403\n",
      "2019-01-23       784.390483\n",
      "2019-01-24       784.392562\n",
      "2019-01-25       784.394642\n",
      "2019-01-26       784.396721\n",
      "2019-01-27       784.398800\n",
      "2019-01-28       784.400880\n",
      "2019-01-29       784.402959\n",
      "2019-01-30       784.405039\n"
     ]
    },
    {
     "name": "stderr",
     "output_type": "stream",
     "text": [
      "D:\\Users\\antho\\anaconda3\\Lib\\site-packages\\sklearn\\base.py:493: UserWarning: X does not have valid feature names, but LinearRegression was fitted with feature names\n",
      "  warnings.warn(\n"
     ]
    }
   ],
   "source": [
    "import numpy as np\n",
    "\n",
    "# Get the last date from the dataset\n",
    "last_date = df.index[-1]\n",
    "\n",
    "# Create a date range for the next 30 days\n",
    "future_dates = pd.date_range(start=last_date + pd.Timedelta(days=1), periods=30)\n",
    "\n",
    "# Convert these future dates to ordinal values and reshape for prediction\n",
    "future_ordinals = np.array([d.toordinal() for d in future_dates]).reshape(-1, 1)\n",
    "\n",
    "# Predict sales for these future dates\n",
    "predictions = model.predict(future_ordinals)\n",
    "\n",
    "# Create a DataFrame for the forecast\n",
    "forecast_df = pd.DataFrame(predictions, index=future_dates, columns=[\"Predicted Sales\"])\n",
    "\n",
    "print(\"Forecast for the next 30 days:\")\n",
    "print(forecast_df)\n"
   ]
  },
  {
   "cell_type": "code",
   "execution_count": null,
   "id": "e87a41ab-0001-4244-9d56-fb4657e09e5c",
   "metadata": {},
   "outputs": [],
   "source": [
    "import matplotlib.pyplot as plt\n",
    "\n",
    "plt.figure(figsize=(12, 6))\n",
    "\n",
    "# Plot observed data as a solid blue line with markers\n",
    "plt.plot(df.index, y, label='Observed', marker='o', linestyle='-', color='blue')\n",
    "\n",
    "# Plot forecast data as a dashed red line with markers\n",
    "plt.plot(forecast_df.index, forecast_df['Predicted Sales'], label='Forecast', marker='o', linestyle='--', color='red')\n",
    "\n",
    "plt.xlabel('Date')\n",
    "plt.ylabel('Number of Products Sold')\n",
    "plt.title('30-Day Forecast using Linear Regression')\n",
    "plt.legend()\n",
    "plt.grid(True)\n",
    "plt.show()\n",
    "\n",
    "\n"
   ]
  }
 ],
 "metadata": {
  "kernelspec": {
   "display_name": "Python [conda env:base] *",
   "language": "python",
   "name": "conda-base-py"
  },
  "language_info": {
   "codemirror_mode": {
    "name": "ipython",
    "version": 3
   },
   "file_extension": ".py",
   "mimetype": "text/x-python",
   "name": "python",
   "nbconvert_exporter": "python",
   "pygments_lexer": "ipython3",
   "version": "3.12.7"
  }
 },
 "nbformat": 4,
 "nbformat_minor": 5
}
